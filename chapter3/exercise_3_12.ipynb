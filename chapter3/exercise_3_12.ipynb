{
 "cells": [
  {
   "cell_type": "code",
   "execution_count": 26,
   "metadata": {},
   "outputs": [],
   "source": [
    "import numpy as np\n",
    "import pandas as pd\n",
    "from statsmodels.formula.api import ols"
   ]
  },
  {
   "cell_type": "markdown",
   "metadata": {},
   "source": [
    "# Question 12\n",
    "\n",
    "This problem involves simple linear regression without an intercept."
   ]
  },
  {
   "cell_type": "markdown",
   "metadata": {},
   "source": [
    "## Part A\n",
    "\n",
    "Recall that the coefficient estimate $\\hat{\\beta}$ for the linear regression of $Y$ onto $X$ without an intercept is given by ($3.38$). Under what circumstance is the coefficient estimate for the regression of $X$ onto $Y$ the same as the coefficient estimate for the regression of $Y$ onto $X$?"
   ]
  },
  {
   "cell_type": "markdown",
   "metadata": {},
   "source": [
    "The coefficient estimate for the regression of $Y$ onto $X$ will be the same as the coefficient estimate for the regression of $X$ onto $Y$ when $\\sum_{i}^{n}x_i^2 =\\sum_{j}^{n}y_j^2$. "
   ]
  },
  {
   "cell_type": "markdown",
   "metadata": {},
   "source": [
    "## Part B\n",
    "\n",
    "Generate an example in `Python` with $n=100$ observations in which the coefficient estimate for the regression of $X$ onto $Y$ is *different from* the coefficient estimate for the regression of $Y$ onto $X$."
   ]
  },
  {
   "cell_type": "code",
   "execution_count": 27,
   "metadata": {},
   "outputs": [
    {
     "name": "stdout",
     "output_type": "stream",
     "text": [
      "3.0 0.33333\n",
      "False\n"
     ]
    }
   ],
   "source": [
    "x = np.random.rand(100)\n",
    "y = 2 + 3 * x\n",
    "\n",
    "df = pd.DataFrame({'x': x, 'y': y})\n",
    "model = ols('y ~ x', df).fit()\n",
    "model2 = ols('x ~ y', df).fit()\n",
    "\n",
    "rounded_beta_1 = np.round(model.params.x, 5)\n",
    "rounded_beta_2 = np.round(model2.params.y, 5)\n",
    "\n",
    "print(rounded_beta_1, rounded_beta_2)\n",
    "print(rounded_beta_1 == rounded_beta_2)"
   ]
  },
  {
   "cell_type": "markdown",
   "metadata": {},
   "source": [
    "## Part C"
   ]
  },
  {
   "cell_type": "code",
   "execution_count": 28,
   "metadata": {},
   "outputs": [
    {
     "name": "stdout",
     "output_type": "stream",
     "text": [
      "-0.17246 -0.17246\n",
      "True\n"
     ]
    }
   ],
   "source": [
    "x = np.random.rand(100)\n",
    "y = np.random.permutation(x)\n",
    "\n",
    "df = pd.DataFrame({'x': x, 'y': y})\n",
    "model = ols('y ~ x', df).fit()\n",
    "model2 = ols('x ~ y', df).fit()\n",
    "rounded_beta_1 = np.round(model.params.x, 5)\n",
    "rounded_beta_2 = np.round(model2.params.y, 5)\n",
    "\n",
    "print(rounded_beta_1, rounded_beta_2)\n",
    "print(rounded_beta_1 == rounded_beta_2)"
   ]
  },
  {
   "cell_type": "code",
   "execution_count": null,
   "metadata": {},
   "outputs": [],
   "source": []
  }
 ],
 "metadata": {
  "kernelspec": {
   "display_name": ".venv",
   "language": "python",
   "name": "python3"
  },
  "language_info": {
   "codemirror_mode": {
    "name": "ipython",
    "version": 3
   },
   "file_extension": ".py",
   "mimetype": "text/x-python",
   "name": "python",
   "nbconvert_exporter": "python",
   "pygments_lexer": "ipython3",
   "version": "3.10.12"
  }
 },
 "nbformat": 4,
 "nbformat_minor": 2
}
